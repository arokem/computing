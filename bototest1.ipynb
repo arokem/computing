{
 "metadata": {
  "name": "",
  "signature": "sha256:5bae277f13bd7afdf6e7a2dff14b915240f53d8e208334b8e996ea02c5f8906e"
 },
 "nbformat": 3,
 "nbformat_minor": 0,
 "worksheets": [
  {
   "cells": [
    {
     "cell_type": "heading",
     "level": 2,
     "metadata": {},
     "source": [
      "Boto test 1"
     ]
    },
    {
     "cell_type": "heading",
     "level": 3,
     "metadata": {},
     "source": [
      "Try to resart a cluster (previously created by script) manually"
     ]
    },
    {
     "cell_type": "markdown",
     "metadata": {},
     "source": [
      "Step 1. Use the script to start the clusters manually\n",
      "\n",
      "./spark-ec2 -i ~/Downloads/HomePair.pem start AutoSpark --region=us-west-2"
     ]
    },
    {
     "cell_type": "code",
     "collapsed": false,
     "input": [],
     "language": "python",
     "metadata": {},
     "outputs": []
    }
   ],
   "metadata": {}
  }
 ]
}