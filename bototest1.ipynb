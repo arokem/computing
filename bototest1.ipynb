{
 "metadata": {
  "name": "",
  "signature": "sha256:63159b33a49fd7a3b7f6aa59b491cd935cd0900d6ac6f5af04b4979bf8278ef2"
 },
 "nbformat": 3,
 "nbformat_minor": 0,
 "worksheets": [
  {
   "cells": [
    {
     "cell_type": "heading",
     "level": 2,
     "metadata": {},
     "source": [
      "Boto test 1"
     ]
    },
    {
     "cell_type": "code",
     "collapsed": false,
     "input": [
      "from __future__ import with_statement\n",
      "\n",
      "import logging\n",
      "import os\n",
      "import pipes\n",
      "import random\n",
      "import shutil\n",
      "import string\n",
      "import subprocess\n",
      "import sys\n",
      "import tempfile\n",
      "import time\n",
      "import urllib2\n",
      "# skip import OptionParser\n",
      "from sys import stderr\n",
      "import boto # version 2.35 rather than 2.41\n",
      "#from boto.ec2.blockdevicemapping import BlockDeviceMapping, BlockDeviceType, E\n",
      "from boto import ec2"
     ],
     "language": "python",
     "metadata": {},
     "outputs": [],
     "prompt_number": 5
    },
    {
     "cell_type": "heading",
     "level": 3,
     "metadata": {},
     "source": [
      "Try to access a running cluster (and stop)"
     ]
    },
    {
     "cell_type": "markdown",
     "metadata": {},
     "source": [
      "Step 1. Use the script to start the clusters manually\n",
      "\n",
      "./spark-ec2 -i ~/Downloads/HomePair.pem start AutoSpark --region=us-west-2\n",
      "\n",
      "check:\n",
      "scp -i HomePair.pem root@54.191.195.242:~/spark/logs/spark-root-org.apache.spark.deploy.master.Master-1-.out .\n",
      "more spark-root-org.apache.spark.deploy.master.Master-1-.out ."
     ]
    },
    {
     "cell_type": "code",
     "collapsed": false,
     "input": [
      "#conn = ec2.connect_to_region('us-west-2')\n",
      "## NoAuthHandlerFound: No handler was ready to authenticate.\n",
      "## ...1 handlers were checked. ['HmacAuthV4Handler'] Check your credentials\n"
     ],
     "language": "python",
     "metadata": {},
     "outputs": [],
     "prompt_number": 7
    },
    {
     "cell_type": "code",
     "collapsed": false,
     "input": [
      "def read_aws_key():\n",
      "    f = open('/home/snarles/Downloads/awskey.txt','r')\n",
      "    str_key = f.read().strip()\n",
      "    f.close()\n",
      "    return str_key\n",
      "\n",
      "def read_aws_ID():\n",
      "    f = open('/home/snarles/Downloads/awsID.txt','r')\n",
      "    str_key = f.read().strip()\n",
      "    f.close()\n",
      "    return str_key"
     ],
     "language": "python",
     "metadata": {},
     "outputs": [],
     "prompt_number": 25
    },
    {
     "cell_type": "code",
     "collapsed": false,
     "input": [
      "os.environ['AWS_ACCESS_KEY_ID']=read_aws_key()\n",
      "os.environ['AWS_SECRET_ACCESS_KEY']=read_aws_ID()"
     ],
     "language": "python",
     "metadata": {},
     "outputs": [],
     "prompt_number": 27
    },
    {
     "cell_type": "code",
     "collapsed": false,
     "input": [],
     "language": "python",
     "metadata": {},
     "outputs": []
    },
    {
     "cell_type": "code",
     "collapsed": false,
     "input": [],
     "language": "python",
     "metadata": {},
     "outputs": []
    },
    {
     "cell_type": "code",
     "collapsed": false,
     "input": [],
     "language": "python",
     "metadata": {},
     "outputs": []
    },
    {
     "cell_type": "code",
     "collapsed": false,
     "input": [],
     "language": "python",
     "metadata": {},
     "outputs": []
    },
    {
     "cell_type": "heading",
     "level": 3,
     "metadata": {},
     "source": [
      "Try to restart a cluster (previously created by script) manually"
     ]
    }
   ],
   "metadata": {}
  }
 ]
}