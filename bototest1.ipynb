{
 "metadata": {
  "name": "",
  "signature": "sha256:1249f3f909776f2a6d2b2f4b74d7428c014a88a175f26f6524c01980dc11e9f1"
 },
 "nbformat": 3,
 "nbformat_minor": 0,
 "worksheets": [
  {
   "cells": [
    {
     "cell_type": "heading",
     "level": 2,
     "metadata": {},
     "source": [
      "Boto test 1"
     ]
    },
    {
     "cell_type": "code",
     "collapsed": false,
     "input": [
      "# due to security reasons... need to remove from git cache before running\n",
      "# lalala\n",
      "import os\n",
      "os.system('git rm --cached bototest1.ipynb')\n",
      "import subprocess\n",
      "st1 = subprocess.check_output('git status', shell=True)\n",
      "print([v for v in st1.split('\\n') if 'bototest' in v][0])"
     ],
     "language": "python",
     "metadata": {},
     "outputs": [
      {
       "output_type": "stream",
       "stream": "stdout",
       "text": [
        "#\tdeleted:    bototest1.ipynb\n"
       ]
      }
     ],
     "prompt_number": 1
    },
    {
     "cell_type": "code",
     "collapsed": false,
     "input": [
      "from __future__ import with_statement\n",
      "\n",
      "import logging\n",
      "import os\n",
      "import pipes\n",
      "import random\n",
      "import shutil\n",
      "import string\n",
      "import subprocess\n",
      "import sys\n",
      "import tempfile\n",
      "import time\n",
      "import urllib2\n",
      "# skip import OptionParser\n",
      "from sys import stderr\n",
      "import boto # version 2.35 rather than 2.41\n",
      "#from boto.ec2.blockdevicemapping import BlockDeviceMapping, BlockDeviceType, E\n",
      "from boto import ec2"
     ],
     "language": "python",
     "metadata": {},
     "outputs": [],
     "prompt_number": 2
    },
    {
     "cell_type": "heading",
     "level": 3,
     "metadata": {},
     "source": [
      "Try to access a running cluster (and stop)"
     ]
    },
    {
     "cell_type": "markdown",
     "metadata": {},
     "source": [
      "Step 1. Use the script to start the clusters manually\n",
      "\n",
      "./spark-ec2 -i ~/Downloads/HomePair.pem start AutoSpark --region=us-west-2\n",
      "\n",
      "check:\n",
      "scp -i HomePair.pem root@54.191.195.242:~/spark/logs/spark-root-org.apache.spark.deploy.master.Master-1-.out .\n",
      "more spark-root-org.apache.spark.deploy.master.Master-1-.out ."
     ]
    },
    {
     "cell_type": "code",
     "collapsed": false,
     "input": [
      "#conn = ec2.connect_to_region('us-west-2')\n",
      "## NoAuthHandlerFound: No handler was ready to authenticate.\n",
      "## ...1 handlers were checked. ['HmacAuthV4Handler'] Check your credentials\n"
     ],
     "language": "python",
     "metadata": {},
     "outputs": [],
     "prompt_number": 7
    },
    {
     "cell_type": "code",
     "collapsed": false,
     "input": [
      "def read_aws_key():\n",
      "    f = open('/home/snarles/Downloads/awskey.txt','r')\n",
      "    str_key = f.read().strip()\n",
      "    f.close()\n",
      "    return str_key\n",
      "\n",
      "def read_aws_ID():\n",
      "    f = open('/home/snarles/Downloads/awsID.txt','r')\n",
      "    str_key = f.read().strip()\n",
      "    f.close()\n",
      "    return str_key"
     ],
     "language": "python",
     "metadata": {},
     "outputs": [],
     "prompt_number": 25
    },
    {
     "cell_type": "code",
     "collapsed": false,
     "input": [
      "os.environ['AWS_ACCESS_KEY_ID']=read_aws_key()\n",
      "os.environ['AWS_SECRET_ACCESS_KEY']=read_aws_ID()"
     ],
     "language": "python",
     "metadata": {},
     "outputs": [],
     "prompt_number": 30
    },
    {
     "cell_type": "code",
     "collapsed": false,
     "input": [
      "conn = ec2.connect_to_region('us-west-2')\n",
      "# It works!"
     ],
     "language": "python",
     "metadata": {},
     "outputs": [],
     "prompt_number": 32
    },
    {
     "cell_type": "code",
     "collapsed": false,
     "input": [
      "reservations = conn.get_all_instances()"
     ],
     "language": "python",
     "metadata": {},
     "outputs": [],
     "prompt_number": 35
    },
    {
     "cell_type": "code",
     "collapsed": false,
     "input": [
      "res = reservations[3]\n",
      "print(len(res.instances)) # if it's 3, slaves, if it's 1, master\n",
      "[g.name for g in res.instances[0].groups]"
     ],
     "language": "python",
     "metadata": {},
     "outputs": [
      {
       "output_type": "stream",
       "stream": "stdout",
       "text": [
        "3\n"
       ]
      },
      {
       "metadata": {},
       "output_type": "pyout",
       "prompt_number": 49,
       "text": [
        "[u'AutoSpark-slaves']"
       ]
      }
     ],
     "prompt_number": 49
    },
    {
     "cell_type": "code",
     "collapsed": false,
     "input": [
      "master_nodes = [i for i in reservations[2].instances]\n",
      "slave_nodes = [i for i in reservations[3].instances]"
     ],
     "language": "python",
     "metadata": {},
     "outputs": [],
     "prompt_number": 50
    },
    {
     "cell_type": "code",
     "collapsed": false,
     "input": [
      "#stop instances\n",
      "\n",
      "for inst in master_nodes:\n",
      "    inst.stop()\n",
      "\n",
      "for inst in slave_nodes:\n",
      "    inst.stop()"
     ],
     "language": "python",
     "metadata": {},
     "outputs": [],
     "prompt_number": 51
    },
    {
     "cell_type": "code",
     "collapsed": false,
     "input": [
      "master_nodes[0].state"
     ],
     "language": "python",
     "metadata": {},
     "outputs": [
      {
       "metadata": {},
       "output_type": "pyout",
       "prompt_number": 52,
       "text": [
        "u'stopping'"
       ]
      }
     ],
     "prompt_number": 52
    },
    {
     "cell_type": "code",
     "collapsed": false,
     "input": [],
     "language": "python",
     "metadata": {},
     "outputs": []
    },
    {
     "cell_type": "heading",
     "level": 3,
     "metadata": {},
     "source": [
      "Try to restart a cluster (previously created by script) manually"
     ]
    },
    {
     "cell_type": "markdown",
     "metadata": {},
     "source": [
      "Functions"
     ]
    },
    {
     "cell_type": "code",
     "collapsed": false,
     "input": [
      "identity_file = '~/Downloads/HomePair.pem'\n",
      "keypair = 'HomePair'\n",
      "region = 'us-west-2'"
     ],
     "language": "python",
     "metadata": {},
     "outputs": [],
     "prompt_number": 16
    },
    {
     "cell_type": "code",
     "collapsed": false,
     "input": [
      "\n",
      "\n",
      "def read_aws_key():\n",
      "    f = open('/home/snarles/Downloads/awskey.txt','r')\n",
      "    str_key = f.read().strip()\n",
      "    f.close()\n",
      "    return str_key\n",
      "\n",
      "def read_aws_ID():\n",
      "    f = open('/home/snarles/Downloads/awsID.txt','r')\n",
      "    str_key = f.read().strip()\n",
      "    f.close()\n",
      "    return str_key"
     ],
     "language": "python",
     "metadata": {},
     "outputs": [],
     "prompt_number": 3
    },
    {
     "cell_type": "markdown",
     "metadata": {},
     "source": [
      "Connect to amazon"
     ]
    },
    {
     "cell_type": "code",
     "collapsed": false,
     "input": [
      "os.environ['AWS_ACCESS_KEY_ID']=read_aws_key()\n",
      "os.environ['AWS_SECRET_ACCESS_KEY']=read_aws_ID()\n",
      "conn = ec2.connect_to_region('us-west-2')"
     ],
     "language": "python",
     "metadata": {},
     "outputs": [],
     "prompt_number": 4
    },
    {
     "cell_type": "markdown",
     "metadata": {},
     "source": [
      "Start the cluster"
     ]
    },
    {
     "cell_type": "code",
     "collapsed": false,
     "input": [
      "reservations = conn.get_all_instances()"
     ],
     "language": "python",
     "metadata": {},
     "outputs": [],
     "prompt_number": 5
    },
    {
     "cell_type": "code",
     "collapsed": false,
     "input": [
      "res = reservations[3]\n",
      "print(len(res.instances)) # if it's 3, slaves, if it's 1, master\n",
      "[g.name for g in res.instances[0].groups]\n",
      "master_nodes = [i for i in reservations[2].instances]\n",
      "slave_nodes = [i for i in reservations[3].instances]"
     ],
     "language": "python",
     "metadata": {},
     "outputs": [
      {
       "output_type": "stream",
       "stream": "stdout",
       "text": [
        "3\n"
       ]
      }
     ],
     "prompt_number": 7
    },
    {
     "cell_type": "code",
     "collapsed": false,
     "input": [
      "for inst in master_nodes:\n",
      "    inst.start()\n",
      "\n",
      "for inst in slave_nodes:\n",
      "    inst.start()"
     ],
     "language": "python",
     "metadata": {},
     "outputs": [],
     "prompt_number": 8
    },
    {
     "cell_type": "markdown",
     "metadata": {},
     "source": [
      "Wait here until the cluster is started"
     ]
    },
    {
     "cell_type": "code",
     "collapsed": false,
     "input": [
      "master_nodes[0].update()\n",
      "for inst in slave_nodes:\n",
      "    inst.update()\n",
      "master_name = master_nodes[0].public_dns_name\n",
      "slave_names = [i.public_dns_name for i in slave_nodes]\n",
      "master_name, slave_names"
     ],
     "language": "python",
     "metadata": {},
     "outputs": [
      {
       "metadata": {},
       "output_type": "pyout",
       "prompt_number": 15,
       "text": [
        "(u'ec2-54-191-125-223.us-west-2.compute.amazonaws.com',\n",
        " [u'ec2-54-191-196-196.us-west-2.compute.amazonaws.com',\n",
        "  u'ec2-54-200-17-204.us-west-2.compute.amazonaws.com',\n",
        "  u'ec2-54-200-1-31.us-west-2.compute.amazonaws.com'])"
       ]
      }
     ],
     "prompt_number": 15
    },
    {
     "cell_type": "markdown",
     "metadata": {},
     "source": [
      "Write the commands to be executed as a shell script"
     ]
    },
    {
     "cell_type": "code",
     "collapsed": false,
     "input": [
      "tempscript = ['#!/bin/bash']\n",
      "tempscript.append('echo hostname > /etc/hostname')\n",
      "tempscript.append('source /root/.bash_profile')"
     ],
     "language": "python",
     "metadata": {},
     "outputs": [],
     "prompt_number": 31
    },
    {
     "cell_type": "markdown",
     "metadata": {},
     "source": [
      "Form a temporary file containing the temporary script and send it over"
     ]
    },
    {
     "cell_type": "code",
     "collapsed": false,
     "input": [
      "f = open('temp.txt','w')\n",
      "f.write('\\n'.join(tempscript))\n",
      "f.close()"
     ],
     "language": "python",
     "metadata": {},
     "outputs": [],
     "prompt_number": 32
    },
    {
     "cell_type": "code",
     "collapsed": false,
     "input": [
      "cmd = 'scp -o StrictHostKeyChecking=no -i '+identity_file+' temp.txt root@'+master_name+':~/'\n",
      "subprocess.check_output(cmd, shell=True)\n",
      "subprocess.check_output('rm temp.txt', shell=True)"
     ],
     "language": "python",
     "metadata": {},
     "outputs": [
      {
       "metadata": {},
       "output_type": "pyout",
       "prompt_number": 34,
       "text": [
        "''"
       ]
      }
     ],
     "prompt_number": 34
    },
    {
     "cell_type": "code",
     "collapsed": false,
     "input": [
      "cmd = 'ssh -o StrictHostKeyChecking=no -i '+identity_file+' root@'+master_name\n",
      "cmd2 = cmd+' echo hostname > /etc/hostname'\n",
      "#subprocess.check_output(cmd+' echo hostname > /etc/hostname', shell=True)\n",
      "cmd2"
     ],
     "language": "python",
     "metadata": {},
     "outputs": [
      {
       "metadata": {},
       "output_type": "pyout",
       "prompt_number": 30,
       "text": [
        "u'ssh -o StrictHostKeyChecking=no -i ~/Downloads/HomePair.pem root@ec2-54-191-125-223.us-west-2.compute.amazonaws.com echo hostname > /etc/hostname'"
       ]
      }
     ],
     "prompt_number": 30
    },
    {
     "cell_type": "code",
     "collapsed": false,
     "input": [
      "master_nodes[0].private_dns_name"
     ],
     "language": "python",
     "metadata": {},
     "outputs": [
      {
       "metadata": {},
       "output_type": "pyout",
       "prompt_number": 24,
       "text": [
        "u'ip-172-31-21-116.us-west-2.compute.internal'"
       ]
      }
     ],
     "prompt_number": 24
    },
    {
     "cell_type": "code",
     "collapsed": false,
     "input": [
      "slave_names[0]"
     ],
     "language": "python",
     "metadata": {},
     "outputs": [
      {
       "metadata": {},
       "output_type": "pyout",
       "prompt_number": 27,
       "text": [
        "u'ec2-54-191-196-196.us-west-2.compute.amazonaws.com'"
       ]
      }
     ],
     "prompt_number": 27
    },
    {
     "cell_type": "heading",
     "level": 2,
     "metadata": {},
     "source": [
      "No security leaks? Add back to git"
     ]
    },
    {
     "cell_type": "code",
     "collapsed": false,
     "input": [
      "os.system('git add bototest1.ipynb')\n",
      "st1 = subprocess.check_output('git status', shell=True)\n",
      "print([v for v in st1.split('\\n') if 'bototest' in v][0])\n",
      "os.system('git commit -m \"commited by python script\"')"
     ],
     "language": "python",
     "metadata": {},
     "outputs": [
      {
       "ename": "IndexError",
       "evalue": "list index out of range",
       "output_type": "pyerr",
       "traceback": [
        "\u001b[1;31m---------------------------------------------------------------------------\u001b[0m\n\u001b[1;31mIndexError\u001b[0m                                Traceback (most recent call last)",
        "\u001b[1;32m<ipython-input-36-110773cf8873>\u001b[0m in \u001b[0;36m<module>\u001b[1;34m()\u001b[0m\n\u001b[0;32m      2\u001b[0m \u001b[0mos\u001b[0m\u001b[1;33m.\u001b[0m\u001b[0msystem\u001b[0m\u001b[1;33m(\u001b[0m\u001b[1;34m'git commit -m \"commited by python script\"'\u001b[0m\u001b[1;33m)\u001b[0m\u001b[1;33m\u001b[0m\u001b[0m\n\u001b[0;32m      3\u001b[0m \u001b[0mst1\u001b[0m \u001b[1;33m=\u001b[0m \u001b[0msubprocess\u001b[0m\u001b[1;33m.\u001b[0m\u001b[0mcheck_output\u001b[0m\u001b[1;33m(\u001b[0m\u001b[1;34m'git status'\u001b[0m\u001b[1;33m,\u001b[0m \u001b[0mshell\u001b[0m\u001b[1;33m=\u001b[0m\u001b[0mTrue\u001b[0m\u001b[1;33m)\u001b[0m\u001b[1;33m\u001b[0m\u001b[0m\n\u001b[1;32m----> 4\u001b[1;33m \u001b[1;32mprint\u001b[0m\u001b[1;33m(\u001b[0m\u001b[1;33m[\u001b[0m\u001b[0mv\u001b[0m \u001b[1;32mfor\u001b[0m \u001b[0mv\u001b[0m \u001b[1;32min\u001b[0m \u001b[0mst1\u001b[0m\u001b[1;33m.\u001b[0m\u001b[0msplit\u001b[0m\u001b[1;33m(\u001b[0m\u001b[1;34m'\\n'\u001b[0m\u001b[1;33m)\u001b[0m \u001b[1;32mif\u001b[0m \u001b[1;34m'bototest'\u001b[0m \u001b[1;32min\u001b[0m \u001b[0mv\u001b[0m\u001b[1;33m]\u001b[0m\u001b[1;33m[\u001b[0m\u001b[1;36m0\u001b[0m\u001b[1;33m]\u001b[0m\u001b[1;33m)\u001b[0m\u001b[1;33m\u001b[0m\u001b[0m\n\u001b[0m",
        "\u001b[1;31mIndexError\u001b[0m: list index out of range"
       ]
      }
     ],
     "prompt_number": 36
    },
    {
     "cell_type": "code",
     "collapsed": false,
     "input": [],
     "language": "python",
     "metadata": {},
     "outputs": []
    }
   ],
   "metadata": {}
  }
 ]
}