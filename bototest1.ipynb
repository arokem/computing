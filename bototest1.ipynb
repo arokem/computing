{
 "metadata": {
  "name": "",
  "signature": "sha256:63eca7ffeba1fbdf2bfb32915dd4b4080791f39f5e596c805024a9f98b6f2bbd"
 },
 "nbformat": 3,
 "nbformat_minor": 0,
 "worksheets": [
  {
   "cells": [
    {
     "cell_type": "heading",
     "level": 2,
     "metadata": {},
     "source": [
      "Boto test 1"
     ]
    },
    {
     "cell_type": "code",
     "collapsed": false,
     "input": [
      "# due to security reasons... need to remove from git cache before running\n",
      "# lalala\n",
      "import os\n",
      "os.system('git rm --cached bototest1.ipynb')\n",
      "import subprocess\n",
      "st1 = subprocess.check_output('git status', shell=True)\n",
      "print([v for v in st1.split('\\n') if 'bototest' in v][0])"
     ],
     "language": "python",
     "metadata": {},
     "outputs": [
      {
       "output_type": "stream",
       "stream": "stdout",
       "text": [
        "#\tdeleted:    bototest1.ipynb\n"
       ]
      }
     ],
     "prompt_number": 13
    },
    {
     "cell_type": "code",
     "collapsed": false,
     "input": [
      "from __future__ import with_statement\n",
      "\n",
      "import logging\n",
      "import os\n",
      "import pipes\n",
      "import random\n",
      "import shutil\n",
      "import string\n",
      "import subprocess\n",
      "import sys\n",
      "import tempfile\n",
      "import time\n",
      "import urllib2\n",
      "# skip import OptionParser\n",
      "from sys import stderr\n",
      "import boto # version 2.35 rather than 2.41\n",
      "#from boto.ec2.blockdevicemapping import BlockDeviceMapping, BlockDeviceType, E\n",
      "from boto import ec2"
     ],
     "language": "python",
     "metadata": {},
     "outputs": [],
     "prompt_number": 2
    },
    {
     "cell_type": "heading",
     "level": 3,
     "metadata": {},
     "source": [
      "Try to access a running cluster (and stop)"
     ]
    },
    {
     "cell_type": "markdown",
     "metadata": {},
     "source": [
      "Step 1. Use the script to start the clusters manually\n",
      "\n",
      "./spark-ec2 -i ~/Downloads/HomePair.pem start AutoSpark --region=us-west-2\n",
      "\n",
      "check:\n",
      "scp -i HomePair.pem root@54.191.195.242:~/spark/logs/spark-root-org.apache.spark.deploy.master.Master-1-.out .\n",
      "more spark-root-org.apache.spark.deploy.master.Master-1-.out ."
     ]
    },
    {
     "cell_type": "code",
     "collapsed": false,
     "input": [
      "#conn = ec2.connect_to_region('us-west-2')\n",
      "## NoAuthHandlerFound: No handler was ready to authenticate.\n",
      "## ...1 handlers were checked. ['HmacAuthV4Handler'] Check your credentials\n"
     ],
     "language": "python",
     "metadata": {},
     "outputs": [],
     "prompt_number": 7
    },
    {
     "cell_type": "code",
     "collapsed": false,
     "input": [
      "def read_aws_key():\n",
      "    f = open('/home/snarles/Downloads/awskey.txt','r')\n",
      "    str_key = f.read().strip()\n",
      "    f.close()\n",
      "    return str_key\n",
      "\n",
      "def read_aws_ID():\n",
      "    f = open('/home/snarles/Downloads/awsID.txt','r')\n",
      "    str_key = f.read().strip()\n",
      "    f.close()\n",
      "    return str_key"
     ],
     "language": "python",
     "metadata": {},
     "outputs": [],
     "prompt_number": 25
    },
    {
     "cell_type": "code",
     "collapsed": false,
     "input": [
      "os.environ['AWS_ACCESS_KEY_ID']=read_aws_key()\n",
      "os.environ['AWS_SECRET_ACCESS_KEY']=read_aws_ID()"
     ],
     "language": "python",
     "metadata": {},
     "outputs": [],
     "prompt_number": 30
    },
    {
     "cell_type": "code",
     "collapsed": false,
     "input": [
      "conn = ec2.connect_to_region('us-west-2')\n",
      "# It works!"
     ],
     "language": "python",
     "metadata": {},
     "outputs": [],
     "prompt_number": 32
    },
    {
     "cell_type": "code",
     "collapsed": false,
     "input": [
      "reservations = conn.get_all_instances()"
     ],
     "language": "python",
     "metadata": {},
     "outputs": [],
     "prompt_number": 35
    },
    {
     "cell_type": "code",
     "collapsed": false,
     "input": [
      "res = reservations[3]\n",
      "print(len(res.instances)) # if it's 3, slaves, if it's 1, master\n",
      "[g.name for g in res.instances[0].groups]"
     ],
     "language": "python",
     "metadata": {},
     "outputs": [
      {
       "output_type": "stream",
       "stream": "stdout",
       "text": [
        "3\n"
       ]
      },
      {
       "metadata": {},
       "output_type": "pyout",
       "prompt_number": 49,
       "text": [
        "[u'AutoSpark-slaves']"
       ]
      }
     ],
     "prompt_number": 49
    },
    {
     "cell_type": "code",
     "collapsed": false,
     "input": [
      "master_nodes = [i for i in reservations[2].instances]\n",
      "slave_nodes = [i for i in reservations[3].instances]"
     ],
     "language": "python",
     "metadata": {},
     "outputs": [],
     "prompt_number": 50
    },
    {
     "cell_type": "code",
     "collapsed": false,
     "input": [
      "#stop instances\n",
      "\n",
      "for inst in master_nodes:\n",
      "    inst.stop()\n",
      "\n",
      "for inst in slave_nodes:\n",
      "    inst.stop()"
     ],
     "language": "python",
     "metadata": {},
     "outputs": [],
     "prompt_number": 51
    },
    {
     "cell_type": "code",
     "collapsed": false,
     "input": [
      "master_nodes[0].state"
     ],
     "language": "python",
     "metadata": {},
     "outputs": [
      {
       "metadata": {},
       "output_type": "pyout",
       "prompt_number": 52,
       "text": [
        "u'stopping'"
       ]
      }
     ],
     "prompt_number": 52
    },
    {
     "cell_type": "code",
     "collapsed": false,
     "input": [],
     "language": "python",
     "metadata": {},
     "outputs": []
    },
    {
     "cell_type": "heading",
     "level": 3,
     "metadata": {},
     "source": [
      "Try to restart a cluster (previously created by script) manually"
     ]
    },
    {
     "cell_type": "code",
     "collapsed": false,
     "input": [
      "identity_file = '~/Downloads/KeyPair.pem'"
     ],
     "language": "python",
     "metadata": {},
     "outputs": [],
     "prompt_number": 14
    },
    {
     "cell_type": "code",
     "collapsed": false,
     "input": [
      "[path for path, dirs, files in os.walk(root_dir)]"
     ],
     "language": "python",
     "metadata": {},
     "outputs": []
    },
    {
     "cell_type": "code",
     "collapsed": false,
     "input": [],
     "language": "python",
     "metadata": {},
     "outputs": []
    },
    {
     "cell_type": "heading",
     "level": 2,
     "metadata": {},
     "source": [
      "No security leaks? Add back to git"
     ]
    },
    {
     "cell_type": "code",
     "collapsed": false,
     "input": [
      "os.system('git add bototest1.ipynb')\n",
      "st1 = subprocess.check_output('git status', shell=True)\n",
      "print([v for v in st1.split('\\n') if 'bototest' in v][0])"
     ],
     "language": "python",
     "metadata": {},
     "outputs": [
      {
       "output_type": "stream",
       "stream": "stdout",
       "text": [
        "#\tmodified:   bototest1.ipynb\n"
       ]
      }
     ],
     "prompt_number": 12
    },
    {
     "cell_type": "code",
     "collapsed": false,
     "input": [],
     "language": "python",
     "metadata": {},
     "outputs": []
    }
   ],
   "metadata": {}
  }
 ]
}