{
 "metadata": {
  "name": "",
  "signature": "sha256:828397b0b3effc7ca9077cd5389b253e8a27a04d1dc8ac328e4e4913950dd2fa"
 },
 "nbformat": 3,
 "nbformat_minor": 0,
 "worksheets": [
  {
   "cells": [
    {
     "cell_type": "code",
     "collapsed": false,
     "input": [
      "# due to security reasons... need to remove from git cache before running\n",
      "# lalala\n",
      "import os\n",
      "os.system('git rm --cached bototest2.ipynb')\n",
      "import subprocess\n",
      "st1 = subprocess.check_output('git status', shell=True)\n",
      "print([v for v in st1.split('\\n') if 'bototest' in v][0])"
     ],
     "language": "python",
     "metadata": {},
     "outputs": [
      {
       "output_type": "stream",
       "stream": "stdout",
       "text": [
        "#\tdeleted:    bototest2.ipynb\n"
       ]
      }
     ],
     "prompt_number": 1
    },
    {
     "cell_type": "code",
     "collapsed": false,
     "input": [
      "from __future__ import with_statement\n",
      "\n",
      "import logging\n",
      "import os\n",
      "import pipes\n",
      "import random\n",
      "import shutil\n",
      "import string\n",
      "import subprocess\n",
      "import sys\n",
      "import tempfile\n",
      "import time\n",
      "import urllib2\n",
      "# skip import OptionParser\n",
      "from sys import stderr\n",
      "import boto # version 2.35 rather than 2.41\n",
      "#from boto.ec2.blockdevicemapping import BlockDeviceMapping, BlockDeviceType, E\n",
      "from boto import ec2"
     ],
     "language": "python",
     "metadata": {},
     "outputs": [],
     "prompt_number": 2
    },
    {
     "cell_type": "code",
     "collapsed": false,
     "input": [
      "def read_aws_key():\n",
      "    f = open('/home/snarles/Downloads/awskey.txt','r')\n",
      "    str_key = f.read().strip()\n",
      "    f.close()\n",
      "    return str_key\n",
      "\n",
      "def read_aws_ID():\n",
      "    f = open('/home/snarles/Downloads/awsID.txt','r')\n",
      "    str_key = f.read().strip()\n",
      "    f.close()\n",
      "    return str_key"
     ],
     "language": "python",
     "metadata": {},
     "outputs": [],
     "prompt_number": 3
    },
    {
     "cell_type": "code",
     "collapsed": false,
     "input": [
      "os.environ['AWS_ACCESS_KEY_ID']=read_aws_key()\n",
      "os.environ['AWS_SECRET_ACCESS_KEY']=read_aws_ID()\n",
      "conn = ec2.connect_to_region('us-west-2')"
     ],
     "language": "python",
     "metadata": {},
     "outputs": [],
     "prompt_number": 4
    },
    {
     "cell_type": "code",
     "collapsed": false,
     "input": [
      "reservations = conn.get_all_instances()"
     ],
     "language": "python",
     "metadata": {},
     "outputs": [],
     "prompt_number": 5
    },
    {
     "cell_type": "code",
     "collapsed": false,
     "input": [
      "res = reservations[0]\n",
      "print(len(res.instances)) # if it's 3, slaves, if it's 1, master\n",
      "[g.name for g in res.instances[0].groups]"
     ],
     "language": "python",
     "metadata": {},
     "outputs": [
      {
       "output_type": "stream",
       "stream": "stdout",
       "text": [
        "3\n"
       ]
      },
      {
       "metadata": {},
       "output_type": "pyout",
       "prompt_number": 7,
       "text": [
        "[u'AutoSpark-slaves']"
       ]
      }
     ],
     "prompt_number": 7
    },
    {
     "cell_type": "code",
     "collapsed": false,
     "input": [
      "master_nodes = [i for i in reservations[1].instances]\n",
      "slave_nodes = [i for i in reservations[0].instances]"
     ],
     "language": "python",
     "metadata": {},
     "outputs": [],
     "prompt_number": 8
    },
    {
     "cell_type": "code",
     "collapsed": false,
     "input": [
      "for inst in master_nodes:\n",
      "    inst.start()\n",
      "\n",
      "for inst in slave_nodes:\n",
      "    inst.start()"
     ],
     "language": "python",
     "metadata": {},
     "outputs": [],
     "prompt_number": 9
    },
    {
     "cell_type": "code",
     "collapsed": false,
     "input": [
      "master_nodes[0].update()\n",
      "for inst in slave_nodes:\n",
      "    inst.update()\n",
      "master_name = master_nodes[0].public_dns_name\n",
      "slave_names = [i.public_dns_name for i in slave_nodes]\n",
      "master_name, slave_names"
     ],
     "language": "python",
     "metadata": {},
     "outputs": [
      {
       "metadata": {},
       "output_type": "pyout",
       "prompt_number": 12,
       "text": [
        "(u'ec2-54-149-73-145.us-west-2.compute.amazonaws.com',\n",
        " [u'ec2-54-200-178-12.us-west-2.compute.amazonaws.com',\n",
        "  u'ec2-54-200-211-127.us-west-2.compute.amazonaws.com',\n",
        "  u'ec2-54-200-163-162.us-west-2.compute.amazonaws.com'])"
       ]
      }
     ],
     "prompt_number": 12
    },
    {
     "cell_type": "code",
     "collapsed": false,
     "input": [],
     "language": "python",
     "metadata": {},
     "outputs": [],
     "prompt_number": 9
    },
    {
     "cell_type": "code",
     "collapsed": false,
     "input": [],
     "language": "python",
     "metadata": {},
     "outputs": [],
     "prompt_number": 9
    },
    {
     "cell_type": "code",
     "collapsed": false,
     "input": [],
     "language": "python",
     "metadata": {},
     "outputs": [],
     "prompt_number": 9
    },
    {
     "cell_type": "code",
     "collapsed": false,
     "input": [],
     "language": "python",
     "metadata": {},
     "outputs": [],
     "prompt_number": 9
    },
    {
     "cell_type": "code",
     "collapsed": false,
     "input": [],
     "language": "python",
     "metadata": {},
     "outputs": [],
     "prompt_number": 9
    },
    {
     "cell_type": "code",
     "collapsed": false,
     "input": [],
     "language": "python",
     "metadata": {},
     "outputs": [],
     "prompt_number": 9
    },
    {
     "cell_type": "code",
     "collapsed": false,
     "input": [],
     "language": "python",
     "metadata": {},
     "outputs": [],
     "prompt_number": 9
    },
    {
     "cell_type": "code",
     "collapsed": false,
     "input": [],
     "language": "python",
     "metadata": {},
     "outputs": [],
     "prompt_number": 9
    },
    {
     "cell_type": "code",
     "collapsed": false,
     "input": [],
     "language": "python",
     "metadata": {},
     "outputs": [],
     "prompt_number": 9
    },
    {
     "cell_type": "code",
     "collapsed": false,
     "input": [],
     "language": "python",
     "metadata": {},
     "outputs": [],
     "prompt_number": 9
    },
    {
     "cell_type": "code",
     "collapsed": false,
     "input": [],
     "language": "python",
     "metadata": {},
     "outputs": [],
     "prompt_number": 9
    },
    {
     "cell_type": "code",
     "collapsed": false,
     "input": [
      "# no security leaks? add back to git\n",
      "os.system('git add bototest2.ipynb')\n",
      "st1 = subprocess.check_output('git status', shell=True)\n",
      "print([v for v in st1.split('\\n') if 'bototest' in v][0])\n",
      "os.system('git commit -a -m \"commited by python script\"')"
     ],
     "language": "python",
     "metadata": {},
     "outputs": [
      {
       "output_type": "stream",
       "stream": "stdout",
       "text": [
        "#\tnew file:   bototest2.ipynb\n"
       ]
      },
      {
       "metadata": {},
       "output_type": "pyout",
       "prompt_number": 11,
       "text": [
        "0"
       ]
      }
     ],
     "prompt_number": 11
    },
    {
     "cell_type": "code",
     "collapsed": false,
     "input": [],
     "language": "python",
     "metadata": {},
     "outputs": []
    }
   ],
   "metadata": {}
  }
 ]
}